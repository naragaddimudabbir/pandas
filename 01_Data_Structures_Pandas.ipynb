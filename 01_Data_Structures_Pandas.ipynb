{
 "cells": [
  {
   "cell_type": "markdown",
   "id": "99c8aeec-3814-47c1-8b11-3b774ce60066",
   "metadata": {},
   "source": [
    "---\n",
    "\n",
    "**What is Pandas?**\n",
    "Pandas is a powerful and open-source Python library designed for data manipulation, cleaning, and analysis. It offers two primary data structures:\n",
    "\n",
    "* **Series**: A one-dimensional labeled array\n",
    "* **DataFrame**: A two-dimensional labeled table (similar to an Excel sheet or SQL table)\n",
    "\n",
    "Pandas makes it easy and efficient to work with structured data, offering flexibility and clear syntax.\n",
    "\n",
    "If you're dealing with tables, spreadsheets, or CSV files in Python, Pandas is an essential tool.\n",
    "\n",
    "---\n",
    "\n",
    "**🔍 Why Use Pandas?**\n",
    "\n",
    "| Task              | Without Pandas     | With Pandas         |\n",
    "| ----------------- | ------------------ | ------------------- |\n",
    "| Load a CSV        | `open()` + loops   | `pd.read_csv()`     |\n",
    "| Filter rows       | Custom loop logic  | `df[df[\"col\"] > 5]` |\n",
    "| Group & summarize | Manual aggregation | `df.groupby()`      |\n",
    "| Merge datasets    | Nested loops       | `pd.merge()`        |\n",
    "\n",
    "Pandas simplifies code, saves development time, and enhances code readability.\n",
    "\n",
    "---\n",
    "\n",
    "**🧠 Core Data Structures in Pandas**\n",
    "\n",
    "Pandas is built around two versatile data structures:\n",
    "\n",
    "### 🔹 Series — 1D Labeled Array\n",
    "\n",
    "* Represents a single column of data\n",
    "* Functions like a list with an index (custom or default)\n",
    "* Ideal for managing one-dimensional labeled data\n",
    "\n",
    "### 🔹 DataFrame — 2D Labeled Table\n",
    "\n",
    "* Represents tabular data with rows and columns\n",
    "* Essentially a collection of Series aligned along a common index\n",
    "* Resembles the structure of a spreadsheet or SQL table\n",
    "\n",
    "---\n",
    "\n",
    "**🔑 Index and Labels**\n",
    "\n",
    "Both Series and DataFrames use an **Index**, which:\n",
    "\n",
    "* Speeds up data access\n",
    "* Helps align data during operations\n",
    "* Supports merging, joining, and time-based analysis\n",
    "\n",
    "**Column labels** define the DataFrame's structure and can be customized for clarity and context.\n",
    "\n",
    "---\n",
    "\n",
    "**🚀 Why It Matters**\n",
    "\n",
    "A strong understanding of Series and DataFrames is key because:\n",
    "\n",
    "* They are the foundation of all major Pandas operations like filtering, selection, merging, and aggregation\n",
    "* Mastery of these structures makes complex data tasks easier and more intuitive\n",
    "\n",
    "---\n",
    "\n",
    "**📌 Summary**\n",
    "\n",
    "| Structure | Shape    | Description                       |\n",
    "| --------- | -------- | --------------------------------- |\n",
    "| Series    | 1D (n,)  | Labeled array (single column)     |\n",
    "| DataFrame | 2D (n×m) | Table with labeled rows & columns |\n",
    "\n",
    "These two structures are at the core of all data operations in Pandas.\n",
    "\n",
    "---\n",
    "\n"
   ]
  },
  {
   "cell_type": "code",
   "execution_count": 1,
   "id": "e3c8667c-01b9-48f4-a0f2-460d2300bf1c",
   "metadata": {
    "tags": []
   },
   "outputs": [
    {
     "name": "stdout",
     "output_type": "stream",
     "text": [
      "Requirement already satisfied: pandas in e:\\anaconda3\\lib\\site-packages (2.0.3)\n",
      "Requirement already satisfied: numpy in e:\\anaconda3\\lib\\site-packages (1.26.4)\n",
      "Requirement already satisfied: python-dateutil>=2.8.2 in e:\\anaconda3\\lib\\site-packages (from pandas) (2.9.0.post0)\n",
      "Requirement already satisfied: pytz>=2020.1 in e:\\anaconda3\\lib\\site-packages (from pandas) (2024.1)\n",
      "Requirement already satisfied: tzdata>=2022.1 in e:\\anaconda3\\lib\\site-packages (from pandas) (2025.2)\n",
      "Requirement already satisfied: six>=1.5 in e:\\anaconda3\\lib\\site-packages (from python-dateutil>=2.8.2->pandas) (1.17.0)\n"
     ]
    }
   ],
   "source": [
    "\n",
    "!pip install pandas numpy\n"
   ]
  },
  {
   "cell_type": "code",
   "execution_count": 2,
   "id": "bd8e41d3-b069-4463-98b8-70e746dca0b9",
   "metadata": {
    "tags": []
   },
   "outputs": [
    {
     "name": "stdout",
     "output_type": "stream",
     "text": [
      "0    10\n",
      "1    20\n",
      "2    30\n",
      "3    40\n",
      "dtype: int64\n"
     ]
    }
   ],
   "source": [
    "import pandas as pd\n",
    "\n",
    "s = pd.Series([10, 20, 30, 40])\n",
    "print(s)"
   ]
  },
  {
   "cell_type": "code",
   "execution_count": 3,
   "id": "e437bf4c-92ef-445b-8c7a-14a493745f2c",
   "metadata": {
    "tags": []
   },
   "outputs": [
    {
     "name": "stdout",
     "output_type": "stream",
     "text": [
      "a    12\n",
      "b    32\n",
      "c     4\n",
      "d    66\n",
      "dtype: int64\n"
     ]
    }
   ],
   "source": [
    "import pandas as pd\n",
    "s1 = pd.Series([12,32,4,66],index=['a','b','c','d'])\n",
    "print(s1)"
   ]
  },
  {
   "cell_type": "code",
   "execution_count": 4,
   "id": "88ebe03f",
   "metadata": {
    "tags": []
   },
   "outputs": [
    {
     "name": "stdout",
     "output_type": "stream",
     "text": [
      "      name  age       city\n",
      "0    Alice   25      Delhi\n",
      "1      Bob   30     Mumbai\n",
      "2  Charlie   35  Bangalore\n"
     ]
    }
   ],
   "source": [
    "data = {\n",
    "    \"name\": [\"Alice\", \"Bob\", \"Charlie\"],\n",
    "    \"age\": [25, 30, 35],\n",
    "    \"city\": [\"Delhi\", \"Mumbai\", \"Bangalore\"]\n",
    "}\n",
    "\n",
    "df = pd.DataFrame(data)\n",
    "print(df)"
   ]
  },
  {
   "cell_type": "code",
   "execution_count": null,
   "id": "a9574c4b-4f4c-4dfa-9e46-8bce63b7f604",
   "metadata": {},
   "outputs": [],
   "source": []
  }
 ],
 "metadata": {
  "kernelspec": {
   "display_name": "Python 3 (ipykernel)",
   "language": "python",
   "name": "python3"
  },
  "language_info": {
   "codemirror_mode": {
    "name": "ipython",
    "version": 3
   },
   "file_extension": ".py",
   "mimetype": "text/x-python",
   "name": "python",
   "nbconvert_exporter": "python",
   "pygments_lexer": "ipython3",
   "version": "3.10.16"
  }
 },
 "nbformat": 4,
 "nbformat_minor": 5
}
