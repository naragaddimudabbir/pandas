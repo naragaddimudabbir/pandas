{
 "cells": [
  {
   "cell_type": "markdown",
   "id": "d6ad5a09-e6d5-4feb-9f66-56bd579640c5",
   "metadata": {},
   "source": [
    "# Data Transformation Using melt(), pivot(), and pivot\\_table() in Pandas\n",
    "\n",
    "## melt() — Converting Wide Format to Long Format\n",
    "\n",
    "The melt() function reshapes a DataFrame from wide format to long format. It is especially useful for normalizing and tidying data by turning columns into rows.\n",
    "\n",
    "🔹 Use When:\n",
    "\n",
    "* You have one observation per row and each column is a separate variable.\n",
    "* You need to tidy data for visualization or analysis.\n",
    "\n",
    "🔹 Key Parameters:\n",
    "\n",
    "* id\\_vars: Columns to keep as identifiers (e.g., names, dates).\n",
    "* value\\_vars: Columns to unpivot into rows.\n",
    "* var\\_name: Name for the new column holding variable names.\n",
    "* value\\_name: Name for the new column holding values.\n",
    "\n",
    "🔹 Why Use melt()?\n",
    "\n",
    "* Makes data easier to visualize and analyze.\n",
    "* Converts wide data into tidy, long-form structure.\n",
    "* Simplifies grouping, filtering, and aggregation.\n",
    "\n",
    "---\n",
    "\n",
    "## pivot() — Converting Long Format to Wide Format\n",
    "\n",
    "The pivot() function does the reverse of melt(): it reshapes long-form data into wide form, spreading values across new columns.\n",
    "\n",
    "🔹 Use When:\n",
    "\n",
    "* You want to restructure a tidy DataFrame so that unique values from a column become new columns.\n",
    "* Each combination of index and column must be unique.\n",
    "\n",
    "🔹 Key Parameters:\n",
    "\n",
    "* index: Column(s) to use as the new row index.\n",
    "* columns: Column whose values will become new column headers.\n",
    "* values: Column whose values fill the new table.\n",
    "\n",
    "🔹 Why Use pivot()?\n",
    "\n",
    "* Organizes data into a clear tabular format.\n",
    "* Suitable for summarizing and reporting data.\n",
    "* Great for reversing the effect of melt().\n",
    "\n",
    "🔸 Note: pivot() requires unique combinations of index and columns. If duplicates exist, it will raise an error.\n",
    "\n",
    "---\n",
    "\n",
    "## pivot\\_table() — Pivoting with Aggregation Support\n",
    "\n",
    "The pivot\\_table() function extends pivot() by handling duplicate entries using aggregation.\n",
    "\n",
    "🔹 Use When:\n",
    "\n",
    "* You have duplicate index-column combinations that need to be summarized.\n",
    "* You want to apply a function like mean, sum, or count to group data.\n",
    "\n",
    "🔹 Key Parameters:\n",
    "\n",
    "* index, columns, values (same as pivot)\n",
    "* aggfunc: Aggregation function (e.g., mean, sum, count) to resolve duplicates.\n",
    "\n",
    "🔹 Why Use pivot\\_table()?\n",
    "\n",
    "* Manages duplicates gracefully through aggregation.\n",
    "* Ideal for data summarization and analysis.\n",
    "* Provides flexible, Excel-style pivot table functionality.\n",
    "\n",
    "---\n",
    "\n",
    "## Summary\n",
    "\n",
    "| Function       | Direction   | Use Case                                 | Handles Duplicates |\n",
    "| -------------- | ----------- | ---------------------------------------- | ------------------ |\n",
    "| melt()         | Wide → Long | Normalize or tidy data for analysis      | ✅ Not applicable   |\n",
    "| pivot()        | Long → Wide | Reformat for readability or reporting    | ❌ No               |\n",
    "| pivot\\_table() | Long → Wide | Aggregate and summarize with flexibility | ✅ Yes              |\n",
    "\n",
    "\n"
   ]
  },
  {
   "cell_type": "code",
   "execution_count": 1,
   "id": "7135cca5-5af5-43c7-ab41-0c35b30646d3",
   "metadata": {},
   "outputs": [
    {
     "name": "stdout",
     "output_type": "stream",
     "text": [
      "      Name  Math  Science  English\n",
      "0    Alice    85       90       88\n",
      "1      Bob    78       82       85\n",
      "2  Charlie    92       89       94\n"
     ]
    }
   ],
   "source": [
    "import pandas as pd\n",
    "\n",
    "# Sample DataFrame\n",
    "data = {\n",
    "    'Name': ['Alice', 'Bob', 'Charlie'],\n",
    "    'Math': [85, 78, 92],\n",
    "    'Science': [90, 82, 89],\n",
    "    'English': [88, 85, 94]\n",
    "}\n",
    "\n",
    "df = pd.DataFrame(data)\n",
    "\n",
    "# Display the DataFrame\n",
    "print(df)\n"
   ]
  },
  {
   "cell_type": "code",
   "execution_count": 16,
   "id": "d0c3dfa6-3284-4c7c-b78d-df8d0223036f",
   "metadata": {},
   "outputs": [
    {
     "data": {
      "text/html": [
       "<div>\n",
       "<style scoped>\n",
       "    .dataframe tbody tr th:only-of-type {\n",
       "        vertical-align: middle;\n",
       "    }\n",
       "\n",
       "    .dataframe tbody tr th {\n",
       "        vertical-align: top;\n",
       "    }\n",
       "\n",
       "    .dataframe thead th {\n",
       "        text-align: right;\n",
       "    }\n",
       "</style>\n",
       "<table border=\"1\" class=\"dataframe\">\n",
       "  <thead>\n",
       "    <tr style=\"text-align: right;\">\n",
       "      <th></th>\n",
       "      <th>Name</th>\n",
       "      <th>Subject</th>\n",
       "      <th>Score</th>\n",
       "    </tr>\n",
       "  </thead>\n",
       "  <tbody>\n",
       "    <tr>\n",
       "      <th>0</th>\n",
       "      <td>Alice</td>\n",
       "      <td>Math</td>\n",
       "      <td>85</td>\n",
       "    </tr>\n",
       "    <tr>\n",
       "      <th>1</th>\n",
       "      <td>Bob</td>\n",
       "      <td>Math</td>\n",
       "      <td>78</td>\n",
       "    </tr>\n",
       "    <tr>\n",
       "      <th>2</th>\n",
       "      <td>Charlie</td>\n",
       "      <td>Math</td>\n",
       "      <td>92</td>\n",
       "    </tr>\n",
       "    <tr>\n",
       "      <th>3</th>\n",
       "      <td>Alice</td>\n",
       "      <td>Science</td>\n",
       "      <td>90</td>\n",
       "    </tr>\n",
       "    <tr>\n",
       "      <th>4</th>\n",
       "      <td>Bob</td>\n",
       "      <td>Science</td>\n",
       "      <td>82</td>\n",
       "    </tr>\n",
       "    <tr>\n",
       "      <th>5</th>\n",
       "      <td>Charlie</td>\n",
       "      <td>Science</td>\n",
       "      <td>89</td>\n",
       "    </tr>\n",
       "    <tr>\n",
       "      <th>6</th>\n",
       "      <td>Alice</td>\n",
       "      <td>English</td>\n",
       "      <td>88</td>\n",
       "    </tr>\n",
       "    <tr>\n",
       "      <th>7</th>\n",
       "      <td>Bob</td>\n",
       "      <td>English</td>\n",
       "      <td>85</td>\n",
       "    </tr>\n",
       "    <tr>\n",
       "      <th>8</th>\n",
       "      <td>Charlie</td>\n",
       "      <td>English</td>\n",
       "      <td>94</td>\n",
       "    </tr>\n",
       "  </tbody>\n",
       "</table>\n",
       "</div>"
      ],
      "text/plain": [
       "      Name  Subject  Score\n",
       "0    Alice     Math     85\n",
       "1      Bob     Math     78\n",
       "2  Charlie     Math     92\n",
       "3    Alice  Science     90\n",
       "4      Bob  Science     82\n",
       "5  Charlie  Science     89\n",
       "6    Alice  English     88\n",
       "7      Bob  English     85\n",
       "8  Charlie  English     94"
      ]
     },
     "execution_count": 16,
     "metadata": {},
     "output_type": "execute_result"
    }
   ],
   "source": [
    "df_melted = df.melt(id_vars=[\"Name\"], value_vars=[\"Math\", \"Science\", \"English\"], var_name=\"Subject\", value_name=\"Score\")\n",
    "df_melted"
   ]
  },
  {
   "cell_type": "code",
   "execution_count": 17,
   "id": "4689defd-c5d2-4827-9cfe-17004171ec08",
   "metadata": {},
   "outputs": [
    {
     "data": {
      "text/html": [
       "<div>\n",
       "<style scoped>\n",
       "    .dataframe tbody tr th:only-of-type {\n",
       "        vertical-align: middle;\n",
       "    }\n",
       "\n",
       "    .dataframe tbody tr th {\n",
       "        vertical-align: top;\n",
       "    }\n",
       "\n",
       "    .dataframe thead th {\n",
       "        text-align: right;\n",
       "    }\n",
       "</style>\n",
       "<table border=\"1\" class=\"dataframe\">\n",
       "  <thead>\n",
       "    <tr style=\"text-align: right;\">\n",
       "      <th>Subject</th>\n",
       "      <th>English</th>\n",
       "      <th>Math</th>\n",
       "      <th>Science</th>\n",
       "    </tr>\n",
       "    <tr>\n",
       "      <th>Name</th>\n",
       "      <th></th>\n",
       "      <th></th>\n",
       "      <th></th>\n",
       "    </tr>\n",
       "  </thead>\n",
       "  <tbody>\n",
       "    <tr>\n",
       "      <th>Alice</th>\n",
       "      <td>88</td>\n",
       "      <td>85</td>\n",
       "      <td>90</td>\n",
       "    </tr>\n",
       "    <tr>\n",
       "      <th>Bob</th>\n",
       "      <td>85</td>\n",
       "      <td>78</td>\n",
       "      <td>82</td>\n",
       "    </tr>\n",
       "    <tr>\n",
       "      <th>Charlie</th>\n",
       "      <td>94</td>\n",
       "      <td>92</td>\n",
       "      <td>89</td>\n",
       "    </tr>\n",
       "  </tbody>\n",
       "</table>\n",
       "</div>"
      ],
      "text/plain": [
       "Subject  English  Math  Science\n",
       "Name                           \n",
       "Alice         88    85       90\n",
       "Bob           85    78       82\n",
       "Charlie       94    92       89"
      ]
     },
     "execution_count": 17,
     "metadata": {},
     "output_type": "execute_result"
    }
   ],
   "source": [
    "df_melted.pivot(index=\"Name\", columns=\"Subject\", values=\"Score\")"
   ]
  },
  {
   "cell_type": "code",
   "execution_count": 18,
   "id": "d74b6502-b692-4165-8046-9195681f043e",
   "metadata": {},
   "outputs": [
    {
     "data": {
      "text/html": [
       "<div>\n",
       "<style scoped>\n",
       "    .dataframe tbody tr th:only-of-type {\n",
       "        vertical-align: middle;\n",
       "    }\n",
       "\n",
       "    .dataframe tbody tr th {\n",
       "        vertical-align: top;\n",
       "    }\n",
       "\n",
       "    .dataframe thead th {\n",
       "        text-align: right;\n",
       "    }\n",
       "</style>\n",
       "<table border=\"1\" class=\"dataframe\">\n",
       "  <thead>\n",
       "    <tr style=\"text-align: right;\">\n",
       "      <th>Subject</th>\n",
       "      <th>English</th>\n",
       "      <th>Math</th>\n",
       "      <th>Science</th>\n",
       "    </tr>\n",
       "    <tr>\n",
       "      <th>Name</th>\n",
       "      <th></th>\n",
       "      <th></th>\n",
       "      <th></th>\n",
       "    </tr>\n",
       "  </thead>\n",
       "  <tbody>\n",
       "    <tr>\n",
       "      <th>Alice</th>\n",
       "      <td>88.0</td>\n",
       "      <td>85.0</td>\n",
       "      <td>90.0</td>\n",
       "    </tr>\n",
       "    <tr>\n",
       "      <th>Bob</th>\n",
       "      <td>85.0</td>\n",
       "      <td>78.0</td>\n",
       "      <td>82.0</td>\n",
       "    </tr>\n",
       "    <tr>\n",
       "      <th>Charlie</th>\n",
       "      <td>94.0</td>\n",
       "      <td>92.0</td>\n",
       "      <td>89.0</td>\n",
       "    </tr>\n",
       "  </tbody>\n",
       "</table>\n",
       "</div>"
      ],
      "text/plain": [
       "Subject  English  Math  Science\n",
       "Name                           \n",
       "Alice       88.0  85.0     90.0\n",
       "Bob         85.0  78.0     82.0\n",
       "Charlie     94.0  92.0     89.0"
      ]
     },
     "execution_count": 18,
     "metadata": {},
     "output_type": "execute_result"
    }
   ],
   "source": [
    "df_melted.pivot_table(index=\"Name\", columns=\"Subject\", values=\"Score\", aggfunc=\"mean\")"
   ]
  },
  {
   "cell_type": "code",
   "execution_count": 11,
   "id": "7671e57e-61fe-4200-af90-15866f55c07e",
   "metadata": {},
   "outputs": [
    {
     "name": "stdout",
     "output_type": "stream",
     "text": [
      "['Name', 'Math', 'Science', 'English']\n"
     ]
    }
   ],
   "source": [
    "print(df.columns.tolist())\n"
   ]
  },
  {
   "cell_type": "code",
   "execution_count": 12,
   "id": "23fd6a83-d5b8-4ba2-8630-803f75c6a6dc",
   "metadata": {},
   "outputs": [
    {
     "name": "stdout",
     "output_type": "stream",
     "text": [
      "Index(['Name', 'Math', 'Science', 'English'], dtype='object')\n"
     ]
    }
   ],
   "source": [
    "print(df.columns)\n"
   ]
  },
  {
   "cell_type": "code",
   "execution_count": 13,
   "id": "7cf78fba-ab2f-42e8-ab58-cc966a707c38",
   "metadata": {},
   "outputs": [
    {
     "ename": "NameError",
     "evalue": "name 'df_long' is not defined",
     "output_type": "error",
     "traceback": [
      "\u001b[1;31m---------------------------------------------------------------------------\u001b[0m",
      "\u001b[1;31mNameError\u001b[0m                                 Traceback (most recent call last)",
      "Cell \u001b[1;32mIn[13], line 1\u001b[0m\n\u001b[1;32m----> 1\u001b[0m pivot_df \u001b[38;5;241m=\u001b[39m \u001b[43mdf_long\u001b[49m\u001b[38;5;241m.\u001b[39mpivot(index\u001b[38;5;241m=\u001b[39m\u001b[38;5;124m\"\u001b[39m\u001b[38;5;124mName\u001b[39m\u001b[38;5;124m\"\u001b[39m, columns\u001b[38;5;241m=\u001b[39m\u001b[38;5;124m\"\u001b[39m\u001b[38;5;124mSubject\u001b[39m\u001b[38;5;124m\"\u001b[39m, values\u001b[38;5;241m=\u001b[39m\u001b[38;5;124m\"\u001b[39m\u001b[38;5;124mScore\u001b[39m\u001b[38;5;124m\"\u001b[39m)\n\u001b[0;32m      2\u001b[0m \u001b[38;5;28mprint\u001b[39m(pivot_df)\n",
      "\u001b[1;31mNameError\u001b[0m: name 'df_long' is not defined"
     ]
    }
   ],
   "source": [
    "pivot_df = df_long.pivot(index=\"Name\", columns=\"Subject\", values=\"Score\")\n",
    "print(pivot_df)\n"
   ]
  },
  {
   "cell_type": "code",
   "execution_count": null,
   "id": "7370a46f-9d7e-4171-b764-ad74a5b4744b",
   "metadata": {},
   "outputs": [],
   "source": []
  }
 ],
 "metadata": {
  "kernelspec": {
   "display_name": "Python 3 (ipykernel)",
   "language": "python",
   "name": "python3"
  },
  "language_info": {
   "codemirror_mode": {
    "name": "ipython",
    "version": 3
   },
   "file_extension": ".py",
   "mimetype": "text/x-python",
   "name": "python",
   "nbconvert_exporter": "python",
   "pygments_lexer": "ipython3",
   "version": "3.10.16"
  }
 },
 "nbformat": 4,
 "nbformat_minor": 5
}
